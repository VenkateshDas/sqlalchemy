{
  "nbformat": 4,
  "nbformat_minor": 0,
  "metadata": {
    "colab": {
      "name": "sqlalchemy_sqlite_task.ipynb",
      "provenance": [],
      "collapsed_sections": [],
      "authorship_tag": "ABX9TyOSrpBdXv0lhT0V34skCgCo",
      "include_colab_link": true
    },
    "kernelspec": {
      "name": "python3",
      "display_name": "Python 3"
    }
  },
  "cells": [
    {
      "cell_type": "markdown",
      "metadata": {
        "id": "view-in-github",
        "colab_type": "text"
      },
      "source": [
        "<a href=\"https://colab.research.google.com/github/VenkateshDas/sqlalchemy/blob/master/sqlalchemy_sqlite_task.ipynb\" target=\"_parent\"><img src=\"https://colab.research.google.com/assets/colab-badge.svg\" alt=\"Open In Colab\"/></a>"
      ]
    },
    {
      "cell_type": "code",
      "metadata": {
        "id": "ZrkGSl_DKt8R",
        "colab_type": "code",
        "colab": {}
      },
      "source": [
        "import numpy as np\n",
        "import pandas as pd\n",
        "columns = ['name','grade','courses']\n",
        "df = pd.DataFrame(columns = columns)\n",
        "\n",
        "names = ['Mike','Alex','Liam','Emma','Noah','Olivia','William','Ava','James','Isabella','Oliver','Sophia','Benjamin','Charlotte','Elijah','Mia','Lucas','Amelia','Mason','Harper','Logan']\n",
        "df['name'] = np.random.choice(list(names), 100)\n",
        "\n",
        "grades = [1.0,2.0,3.0,4.0,5.0]\n",
        "df['grade'] = np.random.choice(list(grades), 100)\n",
        "\n",
        "courses = ['Programming', 'Physics', 'Science', 'Chemistry', 'Biology', 'English', 'Maths', 'German']\n",
        "df['courses'] = np.random.choice(list(courses), 100)"
      ],
      "execution_count": null,
      "outputs": []
    },
    {
      "cell_type": "code",
      "metadata": {
        "id": "N8lPUBJNKzUR",
        "colab_type": "code",
        "colab": {
          "base_uri": "https://localhost:8080/",
          "height": 204
        },
        "outputId": "d0f7072d-8ef1-45c5-a37f-7a3eb71d1138"
      },
      "source": [
        "df.head()"
      ],
      "execution_count": null,
      "outputs": [
        {
          "output_type": "execute_result",
          "data": {
            "text/html": [
              "<div>\n",
              "<style scoped>\n",
              "    .dataframe tbody tr th:only-of-type {\n",
              "        vertical-align: middle;\n",
              "    }\n",
              "\n",
              "    .dataframe tbody tr th {\n",
              "        vertical-align: top;\n",
              "    }\n",
              "\n",
              "    .dataframe thead th {\n",
              "        text-align: right;\n",
              "    }\n",
              "</style>\n",
              "<table border=\"1\" class=\"dataframe\">\n",
              "  <thead>\n",
              "    <tr style=\"text-align: right;\">\n",
              "      <th></th>\n",
              "      <th>name</th>\n",
              "      <th>grade</th>\n",
              "      <th>courses</th>\n",
              "    </tr>\n",
              "  </thead>\n",
              "  <tbody>\n",
              "    <tr>\n",
              "      <th>0</th>\n",
              "      <td>Charlotte</td>\n",
              "      <td>3.0</td>\n",
              "      <td>German</td>\n",
              "    </tr>\n",
              "    <tr>\n",
              "      <th>1</th>\n",
              "      <td>Logan</td>\n",
              "      <td>1.0</td>\n",
              "      <td>Programming</td>\n",
              "    </tr>\n",
              "    <tr>\n",
              "      <th>2</th>\n",
              "      <td>Harper</td>\n",
              "      <td>3.0</td>\n",
              "      <td>Chemistry</td>\n",
              "    </tr>\n",
              "    <tr>\n",
              "      <th>3</th>\n",
              "      <td>Mason</td>\n",
              "      <td>4.0</td>\n",
              "      <td>Maths</td>\n",
              "    </tr>\n",
              "    <tr>\n",
              "      <th>4</th>\n",
              "      <td>Emma</td>\n",
              "      <td>5.0</td>\n",
              "      <td>Physics</td>\n",
              "    </tr>\n",
              "  </tbody>\n",
              "</table>\n",
              "</div>"
            ],
            "text/plain": [
              "        name  grade      courses\n",
              "0  Charlotte    3.0       German\n",
              "1      Logan    1.0  Programming\n",
              "2     Harper    3.0    Chemistry\n",
              "3      Mason    4.0        Maths\n",
              "4       Emma    5.0      Physics"
            ]
          },
          "metadata": {
            "tags": []
          },
          "execution_count": 2
        }
      ]
    },
    {
      "cell_type": "code",
      "metadata": {
        "id": "P0lRrgZSK2Bt",
        "colab_type": "code",
        "colab": {
          "base_uri": "https://localhost:8080/",
          "height": 34
        },
        "outputId": "5639cbf7-8554-4780-a53b-fcb44703a54b"
      },
      "source": [
        "from sqlalchemy import create_engine\n",
        "from sqlalchemy.sql import func\n",
        "from sqlalchemy.orm import sessionmaker\n",
        "from sqlalchemy.ext.declarative import declarative_base\n",
        "from sqlalchemy import Column, Integer, String , Float\n",
        "import csv\n",
        "\n",
        "engine = create_engine('sqlite:///test.db')\n",
        "\n",
        "Session = sessionmaker(bind=engine)\n",
        "session = Session()\n",
        "\n",
        "Base = declarative_base()\n",
        "\n",
        "class User(Base):\n",
        "    __tablename__ = 'tasks'\n",
        "    id = Column(Integer , primary_key = True)\n",
        "    name = Column(String)\n",
        "    grade = Column(Float)\n",
        "    course = Column(String)\n",
        "\n",
        "    def __repr__(self):\n",
        "        return f'User {self.name}'\n",
        "\n",
        "Base.metadata.create_all(engine) # initial table\n",
        "\n",
        "for i in range(df.shape[0]):\n",
        "    user = User(id = i , name=df['name'][i], grade = df['grade'][i] , course = df['courses'][i])\n",
        "    session.add(user)\n",
        "\n",
        "session.commit()\n",
        "\n",
        "query = session.query(func.count(User.course),User.name).filter_by(grade = 1.0).group_by(User.name).having(func.count(User.course)>= 3.0)\n",
        "\n",
        "print(query.all())\n",
        "\n",
        "session.close()\n"
      ],
      "execution_count": null,
      "outputs": [
        {
          "output_type": "stream",
          "text": [
            "[(3, 'William')]\n"
          ],
          "name": "stdout"
        }
      ]
    },
    {
      "cell_type": "code",
      "metadata": {
        "id": "HyRlG0DiRBdm",
        "colab_type": "code",
        "colab": {}
      },
      "source": [
        "Base.metadata.drop_all(engine)"
      ],
      "execution_count": null,
      "outputs": []
    },
    {
      "cell_type": "code",
      "metadata": {
        "id": "D19Zf3lUPOKR",
        "colab_type": "code",
        "colab": {
          "base_uri": "https://localhost:8080/",
          "height": 34
        },
        "outputId": "40ff1234-fd6a-42a5-db70-654e2640b73b"
      },
      "source": [
        "file = '/content/task.csv'\n",
        "df_1 = pd.read_csv(file)\n",
        "\n",
        "session = Session()\n",
        "\n",
        "Base.metadata.create_all(engine)\n",
        "\n",
        "for i in range(df_1.shape[0]):\n",
        "    user = User(id = i , name=df_1['name'][i], grade = df_1['grade'][i] , course = df_1['course'][i])\n",
        "    session.add(user)\n",
        "\n",
        "session.commit()\n",
        "\n",
        "query = session.query(func.count(User.course),User.name).filter_by(grade = 1.0).group_by(User.name).having(func.count(User.course)>= 3.0)\n",
        "\n",
        "print(query.all())\n",
        "\n",
        "session.close()\n",
        "\n",
        "\n"
      ],
      "execution_count": null,
      "outputs": [
        {
          "output_type": "stream",
          "text": [
            "[(3, 'Milana')]\n"
          ],
          "name": "stdout"
        }
      ]
    },
    {
      "cell_type": "code",
      "metadata": {
        "id": "ybFL-wYLSRIt",
        "colab_type": "code",
        "colab": {}
      },
      "source": [
        "Base.metadata.drop_all(engine)"
      ],
      "execution_count": null,
      "outputs": []
    },
    {
      "cell_type": "code",
      "metadata": {
        "id": "hPS6oyXZSffL",
        "colab_type": "code",
        "colab": {
          "base_uri": "https://localhost:8080/",
          "height": 71
        },
        "outputId": "2fd3ec91-9520-41d7-be38-06393d08647b"
      },
      "source": [
        "import time \n",
        "\n",
        "file = '/content/random_test_small.csv'\n",
        "df_1 = pd.read_csv(file)\n",
        "\n",
        "session = Session()\n",
        "\n",
        "Base.metadata.create_all(engine)\n",
        "\n",
        "start_time = time.time()\n",
        "\n",
        "for i in range(df_1.shape[0]):\n",
        "    user = User(id = i , name=df_1['name'][i], grade = df_1['grade'][i] , course = df_1['courses'][i])\n",
        "    session.add(user)\n",
        "\n",
        "session.commit()\n",
        "\n",
        "end_time = time.time() - start_time\n",
        "\n",
        "print(\"Total time to read and write the database : {} \".format(end_time))\n",
        "\n",
        "query = session.query(func.count(User.course),User.name).filter_by(grade = 1.0).group_by(User.name).having(func.count(User.course)>= 3.0)\n",
        "\n",
        "print(query.all())\n",
        "\n",
        "session.close()"
      ],
      "execution_count": null,
      "outputs": [
        {
          "output_type": "stream",
          "text": [
            "Total time to read and write the database : 157.12983560562134 \n",
            "[(9676, 'Alex'), (9680, 'Amelia'), (9612, 'Ava'), (9636, 'Benjamin'), (9308, 'Charlotte'), (9412, 'Elijah'), (9541, 'Emma'), (9700, 'Harper'), (9665, 'Isabella'), (9497, 'James'), (9572, 'Liam'), (9489, 'Logan'), (9422, 'Lucas'), (9565, 'Mason'), (9716, 'Mia'), (9414, 'Mike'), (9332, 'Noah'), (9611, 'Oliver'), (9666, 'Olivia'), (9503, 'Sophia'), (9744, 'William')]\n"
          ],
          "name": "stdout"
        }
      ]
    },
    {
      "cell_type": "markdown",
      "metadata": {
        "id": "uzNVZWC4UOAw",
        "colab_type": "text"
      },
      "source": [
        "For a million data point with a file size of 20 MB it took 157 seconds to read and write the data. SInce it was done in Sqlite the in memory RAM usage also started shooting up. \n",
        "\n",
        "This is the primary reason to move to a postgreSQL database where the transactions can be done in the persistent memory efficiently. \n",
        "\n",
        "And for large datasets we can use the sqlalchemy ORM functionality of bulk inserts or bulk save. "
      ]
    }
  ]
}